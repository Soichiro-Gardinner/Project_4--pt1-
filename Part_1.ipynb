{
 "cells": [
  {
   "cell_type": "markdown",
   "id": "f075e22a",
   "metadata": {},
   "source": [
    "# Chicago Crimes"
   ]
  },
  {
   "cell_type": "code",
   "execution_count": 1,
   "id": "0ae79ed0",
   "metadata": {},
   "outputs": [],
   "source": [
    "import pandas as pd\n",
    "\n",
    "# Load Data: \n",
    "df = pd.read_csv(\"Crimes_-_2001_to_Present.csv\")"
   ]
  },
  {
   "cell_type": "markdown",
   "id": "041bd3e3",
   "metadata": {},
   "source": [
    "- **Explore File Structure**"
   ]
  },
  {
   "cell_type": "code",
   "execution_count": 2,
   "id": "e817074c",
   "metadata": {},
   "outputs": [
    {
     "data": {
      "text/html": [
       "<div>\n",
       "<style scoped>\n",
       "    .dataframe tbody tr th:only-of-type {\n",
       "        vertical-align: middle;\n",
       "    }\n",
       "\n",
       "    .dataframe tbody tr th {\n",
       "        vertical-align: top;\n",
       "    }\n",
       "\n",
       "    .dataframe thead th {\n",
       "        text-align: right;\n",
       "    }\n",
       "</style>\n",
       "<table border=\"1\" class=\"dataframe\">\n",
       "  <thead>\n",
       "    <tr style=\"text-align: right;\">\n",
       "      <th></th>\n",
       "      <th>ID</th>\n",
       "      <th>Case Number</th>\n",
       "      <th>Date</th>\n",
       "      <th>Block</th>\n",
       "      <th>IUCR</th>\n",
       "      <th>Primary Type</th>\n",
       "      <th>Description</th>\n",
       "      <th>Location Description</th>\n",
       "      <th>Arrest</th>\n",
       "      <th>Domestic</th>\n",
       "      <th>...</th>\n",
       "      <th>Longitude</th>\n",
       "      <th>Location</th>\n",
       "      <th>Historical Wards 2003-2015</th>\n",
       "      <th>Zip Codes</th>\n",
       "      <th>Community Areas</th>\n",
       "      <th>Census Tracts</th>\n",
       "      <th>Wards</th>\n",
       "      <th>Boundaries - ZIP Codes</th>\n",
       "      <th>Police Districts</th>\n",
       "      <th>Police Beats</th>\n",
       "    </tr>\n",
       "  </thead>\n",
       "  <tbody>\n",
       "    <tr>\n",
       "      <th>0</th>\n",
       "      <td>11646166</td>\n",
       "      <td>JC213529</td>\n",
       "      <td>09/01/2018 12:01:00 AM</td>\n",
       "      <td>082XX S INGLESIDE AVE</td>\n",
       "      <td>0810</td>\n",
       "      <td>THEFT</td>\n",
       "      <td>OVER $500</td>\n",
       "      <td>RESIDENCE</td>\n",
       "      <td>False</td>\n",
       "      <td>True</td>\n",
       "      <td>...</td>\n",
       "      <td>NaN</td>\n",
       "      <td>NaN</td>\n",
       "      <td>NaN</td>\n",
       "      <td>NaN</td>\n",
       "      <td>NaN</td>\n",
       "      <td>NaN</td>\n",
       "      <td>NaN</td>\n",
       "      <td>NaN</td>\n",
       "      <td>NaN</td>\n",
       "      <td>NaN</td>\n",
       "    </tr>\n",
       "    <tr>\n",
       "      <th>1</th>\n",
       "      <td>11645836</td>\n",
       "      <td>JC212333</td>\n",
       "      <td>05/01/2016 12:25:00 AM</td>\n",
       "      <td>055XX S ROCKWELL ST</td>\n",
       "      <td>1153</td>\n",
       "      <td>DECEPTIVE PRACTICE</td>\n",
       "      <td>FINANCIAL IDENTITY THEFT OVER $ 300</td>\n",
       "      <td>NaN</td>\n",
       "      <td>False</td>\n",
       "      <td>False</td>\n",
       "      <td>...</td>\n",
       "      <td>NaN</td>\n",
       "      <td>NaN</td>\n",
       "      <td>NaN</td>\n",
       "      <td>NaN</td>\n",
       "      <td>NaN</td>\n",
       "      <td>NaN</td>\n",
       "      <td>NaN</td>\n",
       "      <td>NaN</td>\n",
       "      <td>NaN</td>\n",
       "      <td>NaN</td>\n",
       "    </tr>\n",
       "    <tr>\n",
       "      <th>2</th>\n",
       "      <td>11243268</td>\n",
       "      <td>JB167760</td>\n",
       "      <td>01/01/2017 12:01:00 AM</td>\n",
       "      <td>047XX N CLARK ST</td>\n",
       "      <td>1562</td>\n",
       "      <td>SEX OFFENSE</td>\n",
       "      <td>AGG CRIMINAL SEXUAL ABUSE</td>\n",
       "      <td>APARTMENT</td>\n",
       "      <td>False</td>\n",
       "      <td>False</td>\n",
       "      <td>...</td>\n",
       "      <td>NaN</td>\n",
       "      <td>NaN</td>\n",
       "      <td>NaN</td>\n",
       "      <td>NaN</td>\n",
       "      <td>NaN</td>\n",
       "      <td>NaN</td>\n",
       "      <td>NaN</td>\n",
       "      <td>NaN</td>\n",
       "      <td>NaN</td>\n",
       "      <td>NaN</td>\n",
       "    </tr>\n",
       "    <tr>\n",
       "      <th>3</th>\n",
       "      <td>1896258</td>\n",
       "      <td>G749215</td>\n",
       "      <td>12/15/2001 02:00:00 AM</td>\n",
       "      <td>011XX N STATE ST</td>\n",
       "      <td>0460</td>\n",
       "      <td>BATTERY</td>\n",
       "      <td>SIMPLE</td>\n",
       "      <td>STREET</td>\n",
       "      <td>False</td>\n",
       "      <td>False</td>\n",
       "      <td>...</td>\n",
       "      <td>NaN</td>\n",
       "      <td>NaN</td>\n",
       "      <td>NaN</td>\n",
       "      <td>NaN</td>\n",
       "      <td>NaN</td>\n",
       "      <td>NaN</td>\n",
       "      <td>NaN</td>\n",
       "      <td>NaN</td>\n",
       "      <td>NaN</td>\n",
       "      <td>NaN</td>\n",
       "    </tr>\n",
       "    <tr>\n",
       "      <th>4</th>\n",
       "      <td>11645527</td>\n",
       "      <td>JC212744</td>\n",
       "      <td>02/02/2015 10:00:00 AM</td>\n",
       "      <td>069XX W ARCHER AVE</td>\n",
       "      <td>1153</td>\n",
       "      <td>DECEPTIVE PRACTICE</td>\n",
       "      <td>FINANCIAL IDENTITY THEFT OVER $ 300</td>\n",
       "      <td>OTHER</td>\n",
       "      <td>False</td>\n",
       "      <td>False</td>\n",
       "      <td>...</td>\n",
       "      <td>NaN</td>\n",
       "      <td>NaN</td>\n",
       "      <td>NaN</td>\n",
       "      <td>NaN</td>\n",
       "      <td>NaN</td>\n",
       "      <td>NaN</td>\n",
       "      <td>NaN</td>\n",
       "      <td>NaN</td>\n",
       "      <td>NaN</td>\n",
       "      <td>NaN</td>\n",
       "    </tr>\n",
       "  </tbody>\n",
       "</table>\n",
       "<p>5 rows × 30 columns</p>\n",
       "</div>"
      ],
      "text/plain": [
       "         ID Case Number                    Date                  Block  IUCR  \\\n",
       "0  11646166    JC213529  09/01/2018 12:01:00 AM  082XX S INGLESIDE AVE  0810   \n",
       "1  11645836    JC212333  05/01/2016 12:25:00 AM    055XX S ROCKWELL ST  1153   \n",
       "2  11243268    JB167760  01/01/2017 12:01:00 AM       047XX N CLARK ST  1562   \n",
       "3   1896258     G749215  12/15/2001 02:00:00 AM       011XX N STATE ST  0460   \n",
       "4  11645527    JC212744  02/02/2015 10:00:00 AM     069XX W ARCHER AVE  1153   \n",
       "\n",
       "         Primary Type                          Description  \\\n",
       "0               THEFT                            OVER $500   \n",
       "1  DECEPTIVE PRACTICE  FINANCIAL IDENTITY THEFT OVER $ 300   \n",
       "2         SEX OFFENSE            AGG CRIMINAL SEXUAL ABUSE   \n",
       "3             BATTERY                               SIMPLE   \n",
       "4  DECEPTIVE PRACTICE  FINANCIAL IDENTITY THEFT OVER $ 300   \n",
       "\n",
       "  Location Description  Arrest  Domestic  ...  Longitude  Location  \\\n",
       "0            RESIDENCE   False      True  ...        NaN       NaN   \n",
       "1                  NaN   False     False  ...        NaN       NaN   \n",
       "2            APARTMENT   False     False  ...        NaN       NaN   \n",
       "3               STREET   False     False  ...        NaN       NaN   \n",
       "4                OTHER   False     False  ...        NaN       NaN   \n",
       "\n",
       "   Historical Wards 2003-2015  Zip Codes Community Areas  Census Tracts  \\\n",
       "0                         NaN        NaN             NaN            NaN   \n",
       "1                         NaN        NaN             NaN            NaN   \n",
       "2                         NaN        NaN             NaN            NaN   \n",
       "3                         NaN        NaN             NaN            NaN   \n",
       "4                         NaN        NaN             NaN            NaN   \n",
       "\n",
       "   Wards  Boundaries - ZIP Codes Police Districts  Police Beats  \n",
       "0    NaN                     NaN              NaN           NaN  \n",
       "1    NaN                     NaN              NaN           NaN  \n",
       "2    NaN                     NaN              NaN           NaN  \n",
       "3    NaN                     NaN              NaN           NaN  \n",
       "4    NaN                     NaN              NaN           NaN  \n",
       "\n",
       "[5 rows x 30 columns]"
      ]
     },
     "execution_count": 2,
     "metadata": {},
     "output_type": "execute_result"
    }
   ],
   "source": [
    "df.head()"
   ]
  },
  {
   "cell_type": "code",
   "execution_count": 3,
   "id": "ecffb7b0",
   "metadata": {},
   "outputs": [
    {
     "data": {
      "text/plain": [
       "ID                              int64\n",
       "Case Number                    object\n",
       "Date                           object\n",
       "Block                          object\n",
       "IUCR                           object\n",
       "Primary Type                   object\n",
       "Description                    object\n",
       "Location Description           object\n",
       "Arrest                           bool\n",
       "Domestic                         bool\n",
       "Beat                            int64\n",
       "District                      float64\n",
       "Ward                          float64\n",
       "Community Area                float64\n",
       "FBI Code                       object\n",
       "X Coordinate                  float64\n",
       "Y Coordinate                  float64\n",
       "Year                            int64\n",
       "Updated On                     object\n",
       "Latitude                      float64\n",
       "Longitude                     float64\n",
       "Location                       object\n",
       "Historical Wards 2003-2015    float64\n",
       "Zip Codes                     float64\n",
       "Community Areas               float64\n",
       "Census Tracts                 float64\n",
       "Wards                         float64\n",
       "Boundaries - ZIP Codes        float64\n",
       "Police Districts              float64\n",
       "Police Beats                  float64\n",
       "dtype: object"
      ]
     },
     "execution_count": 3,
     "metadata": {},
     "output_type": "execute_result"
    }
   ],
   "source": [
    "df.dtypes"
   ]
  },
  {
   "cell_type": "code",
   "execution_count": 4,
   "id": "0f55052a",
   "metadata": {},
   "outputs": [
    {
     "data": {
      "text/plain": [
       "(7856203, 30)"
      ]
     },
     "execution_count": 4,
     "metadata": {},
     "output_type": "execute_result"
    }
   ],
   "source": [
    "df.shape"
   ]
  },
  {
   "cell_type": "markdown",
   "id": "2105ae61",
   "metadata": {},
   "source": [
    "### **Comparing Police Districts**"
   ]
  },
  {
   "cell_type": "code",
   "execution_count": 5,
   "id": "8656406c",
   "metadata": {},
   "outputs": [],
   "source": [
    "# Group by police district and calculate total crimes\n",
    "district_crime_counts = df['District'].value_counts()"
   ]
  },
  {
   "cell_type": "code",
   "execution_count": 6,
   "id": "1bc7ad6c",
   "metadata": {},
   "outputs": [
    {
     "name": "stdout",
     "output_type": "stream",
     "text": [
      "District with the most crimes: 8.0\n",
      "District with the least crimes: 21.0\n"
     ]
    }
   ],
   "source": [
    "# Identify the district with the most crimes and the district with the least\n",
    "most_crimes_district = district_crime_counts.idxmax()\n",
    "least_crimes_district = district_crime_counts.idxmin()\n",
    "\n",
    "print(f\"District with the most crimes: {most_crimes_district}\")\n",
    "print(f\"District with the least crimes: {least_crimes_district}\")"
   ]
  },
  {
   "cell_type": "markdown",
   "id": "b91cb046",
   "metadata": {},
   "source": [
    "- The output **\"District with the most crimes: 8.0\"** means that District 8 has the highest number of reported crimes in the dataset.\n",
    "\n",
    "- The output **\"District with the least crimes: 21.0\"** means that District 21 has the lowest number of reported crimes in the dataset."
   ]
  },
  {
   "cell_type": "code",
   "execution_count": null,
   "id": "21505dde",
   "metadata": {},
   "outputs": [],
   "source": [
    "# Convert 'Date' column to datetime\n",
    "df['Date'] = pd.to_datetime(df['Date'])\n",
    "\n",
    "# Group by year and calculate total crimes\n",
    "yearly_crime_counts = df['Year'].value_counts().sort_index()\n",
    "\n",
    "# Plot a line chart\n",
    "import matplotlib.pyplot as plt\n",
    "\n",
    "plt.plot(yearly_crime_counts.index, yearly_crime_counts.values)\n",
    "plt.xlabel('Year')\n",
    "plt.ylabel('Total Crimes')\n",
    "plt.title('Total Crimes Across the Years')\n",
    "plt.show()"
   ]
  },
  {
   "cell_type": "code",
   "execution_count": null,
   "id": "f8385471",
   "metadata": {},
   "outputs": [],
   "source": [
    "# Visualize Total Crimes Across the Years\n",
    "plt.figure(figsize=(10, 6))\n",
    "plt.plot(yearly_crime_counts.index, yearly_crime_counts.values, marker='o')\n",
    "plt.xlabel('Year')\n",
    "plt.ylabel('Total Crimes')\n",
    "plt.title('Total Crimes Across the Years')\n",
    "plt.grid(True)\n",
    "plt.show()"
   ]
  },
  {
   "cell_type": "markdown",
   "id": "64280b1e",
   "metadata": {},
   "source": [
    "- **Identify individual crimes with opposite trends (decreasing when overall crime is increasing or vice-versa)**\n",
    "\n",
    "The y-axis \"Total crimes\" indicates the total number of reported crimes, with values starting at 500,000 and decreasing to 150,000. This indicates a decrease in the total number of reported crimes over the years.\n",
    "\n",
    "The x-axis \"Year\" represents the years from 2001 to 2023. The line starts from above the y-axis at the year 2001 and descends to the present year, 2023. This descending line visually reinforces the decrease in total reported crimes."
   ]
  },
  {
   "cell_type": "markdown",
   "id": "0fc08f40",
   "metadata": {},
   "source": [
    "### Comparing AM vs. PM Rush Hour"
   ]
  },
  {
   "cell_type": "code",
   "execution_count": null,
   "id": "c776f6f4",
   "metadata": {},
   "outputs": [],
   "source": [
    "# Create a new column indicating AM or PM rush hour\n",
    "df['Hour'] = df['Date'].dt.hour\n",
    "print(df[\"Hour\"].head())"
   ]
  },
  {
   "cell_type": "code",
   "execution_count": null,
   "id": "cc34c91d",
   "metadata": {},
   "outputs": [],
   "source": [
    "# Create columns for AM and PM rush hours\n",
    "df['AM_Rush_Hour'] = (df['Hour'] >= 7) & (df['Hour'] < 10)\n",
    "df['PM_Rush_Hour'] = (df['Hour'] >= 16) & (df['Hour'] < 19)"
   ]
  },
  {
   "cell_type": "code",
   "execution_count": null,
   "id": "43354b73",
   "metadata": {},
   "outputs": [],
   "source": [
    "print(df[\"AM_Rush_Hour\"].head())"
   ]
  },
  {
   "cell_type": "code",
   "execution_count": null,
   "id": "2d4d6af8",
   "metadata": {},
   "outputs": [],
   "source": [
    "print(df[\"PM_Rush_Hour\"].head())"
   ]
  },
  {
   "cell_type": "code",
   "execution_count": null,
   "id": "f0cae703",
   "metadata": {},
   "outputs": [],
   "source": [
    "# Group by crime type and calculate common crimes during AM and PM rush hours\n",
    "rush_hour_crime_counts = df.groupby(['Primary Type', 'AM_Rush_Hour', 'PM_Rush_Hour'])['ID'].count().unstack()"
   ]
  },
  {
   "cell_type": "code",
   "execution_count": null,
   "id": "1342ca86",
   "metadata": {},
   "outputs": [],
   "source": [
    "# Cell 10: Visualize Common Crimes During AM and PM Rush Hours\n",
    "plt.figure(figsize=(12, 6))\n",
    "subset_rush_hour_crime_counts = rush_hour_crime_counts.head(len(rush_hour_crime_counts) // 4)\n",
    "subset_rush_hour_crime_counts.plot(kind='bar', stacked=True)\n",
    "plt.xlabel('Primary Type')\n",
    "plt.ylabel('Crime Count')\n",
    "plt.title('Common Crimes During AM and PM Rush Hours [2/1]')\n",
    "plt.legend(['AM Rush Hour', 'PM Rush Hour'])\n",
    "plt.xticks(rotation=55, ha='right',fontsize = 6)\n",
    "plt.show()"
   ]
  },
  {
   "cell_type": "code",
   "execution_count": null,
   "id": "20bbe847",
   "metadata": {},
   "outputs": [],
   "source": [
    "# Visualize Common Crimes During AM and PM Rush Hours\n",
    "plt.figure(figsize=(12, 6))\n",
    "subset_rush_hour_crime_counts = rush_hour_crime_counts.head(10)  # Display only the top 10 common crimes\n",
    "subset_rush_hour_crime_counts.plot(kind='bar', stacked=True)\n",
    "plt.xlabel('Primary Type')\n",
    "plt.ylabel('Crime Count')\n",
    "plt.title('Top 10 Common Crimes During AM and PM Rush Hours [2/2]')\n",
    "plt.legend(['AM Rush Hour', 'PM Rush Hour'])\n",
    "plt.xticks(rotation=45, ha='right')\n",
    "plt.show()"
   ]
  },
  {
   "cell_type": "code",
   "execution_count": null,
   "id": "8e044980",
   "metadata": {},
   "outputs": [],
   "source": [
    "# Filter the DataFrame for AM and PM rush hours\n",
    "am_rush_hour_df = df[df['AM_Rush_Hour']]\n",
    "pm_rush_hour_df = df[df['PM_Rush_Hour']]\n",
    "\n",
    "# Group by crime type and calculate common crimes during AM and PM rush hours\n",
    "am_rush_hour_counts = am_rush_hour_df['Primary Type'].value_counts().head(5)\n",
    "pm_rush_hour_counts = pm_rush_hour_df['Primary Type'].value_counts().head(5)"
   ]
  },
  {
   "cell_type": "code",
   "execution_count": null,
   "id": "8df37bc1",
   "metadata": {},
   "outputs": [],
   "source": [
    "# Print top 5 most common crimes during AM and PM rush hours\n",
    "print(\"Top 5 crimes during AM rush hour:\")\n",
    "print(am_rush_hour_counts)"
   ]
  },
  {
   "cell_type": "code",
   "execution_count": null,
   "id": "77bf9a52",
   "metadata": {},
   "outputs": [],
   "source": [
    "# Visualize Top 5 Crimes During AM Rush Hour\n",
    "plt.figure(figsize=(10, 6))\n",
    "am_rush_hour_counts.plot(kind='bar')\n",
    "plt.xlabel('Crime Type')\n",
    "plt.ylabel('Crime Count')\n",
    "plt.title('Top 5 Crimes During AM Rush Hour')\n",
    "plt.xticks(rotation=45, ha='right')\n",
    "plt.show()"
   ]
  },
  {
   "cell_type": "markdown",
   "id": "cb1ec47e",
   "metadata": {},
   "source": [
    "**Top 5 Crimes During AM Rush Hour:**\n",
    "\n",
    "- **<span style=\"color: red\">THEFT:</span>**  Theft is the most common crime during AM rush hours. This could indicate that individuals might be more prone to stealing or engaging in theft-related activities during the morning rush.\n",
    "\n",
    "\n",
    "- **<span style=\"color: red\">BATTERY:</span>** Battery is the second most common crime. This suggests that incidents involving physical harm or violence are also relatively frequent during the morning rush.\n",
    "\n",
    "\n",
    "\n",
    "- **<span style=\"color: red\">CRIMINAL DAMAGE:</span>** The third highest count is for criminal damage. This might include acts of vandalism or property damage, which could be influenced by increased activity during the morning commute.\n",
    "\n",
    "\n",
    "- **<span style=\"color: red\">BURGLARY:</span>** Burglary, which involves unauthorized entry into a building, is also quite common. This could be related to opportunist criminal behavior when people are leaving their homes for work.\n",
    "\n",
    "\n",
    "- **<span style=\"color: red\">OTHER OFFENSE:</span>** This category includes a variety of non-specific offenses. It could indicate a range of activities, such as disorderly conduct or public disturbances, happening during the morning rush.\n",
    "\n"
   ]
  },
  {
   "cell_type": "code",
   "execution_count": null,
   "id": "06624eb6",
   "metadata": {},
   "outputs": [],
   "source": [
    "print(\"\\nTop 5 crimes during PM rush hour:\")\n",
    "print(pm_rush_hour_counts)"
   ]
  },
  {
   "cell_type": "code",
   "execution_count": null,
   "id": "e12130dc",
   "metadata": {},
   "outputs": [],
   "source": [
    "# Visualize Top 5 Crimes During PM Rush Hour\n",
    "plt.figure(figsize=(10, 6))\n",
    "pm_rush_hour_counts.plot(kind='bar')\n",
    "plt.xlabel('Crime Type')\n",
    "plt.ylabel('Crime Count')\n",
    "plt.title('Top 5 Crimes During PM Rush Hour')\n",
    "plt.xticks(rotation=45, ha='right')\n",
    "plt.show()"
   ]
  },
  {
   "cell_type": "markdown",
   "id": "9cca7402",
   "metadata": {},
   "source": [
    "**Top 5 Crimes During PM Rush Hour:** \n",
    "\n",
    "- **<span style=\"color: red\">THEFT:</span>** Similar to AM rush hours, theft remains the most common crime during the evening rush. This may suggest that theft-related activities continue to be prevalent throughout the day.\n",
    "\n",
    "\n",
    "- **<span style=\"color: red\">BATTERY:</span>** Battery also maintains its position as the second most common crime during PM rush hours. This indicates that incidents of violence remain consistent between the two rush hour periods.\n",
    "\n",
    "\n",
    "- **<span style=\"color: red\">CRIMINAL DAMAGE:</span>** Again, criminal damage ranks third. This suggests that property damage and vandalism continue to occur during the evening rush.\n",
    "\n",
    "\n",
    "- **<span style=\"color: red\">NARCOTICS:</span>** Interestingly, narcotics-related incidents are more common during PM rush hours. This could indicate a higher likelihood of drug-related activities taking place in the evening. \n",
    "\n",
    "\n",
    "- **<span style=\"color: red\">ASSAULT:</span>** Assault, another form of violent crime, rounds out the top 5. This reinforces the presence of physical altercations during the evening rush."
   ]
  },
  {
   "cell_type": "code",
   "execution_count": null,
   "id": "90ffa16a",
   "metadata": {},
   "outputs": [],
   "source": [
    "# Calculate the number of Motor Vehicle Thefts during AM and PM rush hours\n",
    "mv_theft_am = am_rush_hour_df[am_rush_hour_df['Primary Type'] == 'MOTOR VEHICLE THEFT'].shape[0]\n",
    "mv_theft_pm = pm_rush_hour_df[pm_rush_hour_df['Primary Type'] == 'MOTOR VEHICLE THEFT'].shape[0]\n",
    "\n",
    "# Compare Motor Vehicle Thefts during AM and PM rush hours\n",
    "print(f\"Motor Vehicle Thefts during AM rush hour: {mv_theft_am}\")\n",
    "print(f\"Motor Vehicle Thefts during PM rush hour: {mv_theft_pm}\")"
   ]
  },
  {
   "cell_type": "markdown",
   "id": "f9be20f8",
   "metadata": {},
   "source": [
    "### Motor Vehicle Thefts During AM and PM Rush Hours:\n",
    "\n",
    "Motor vehicle thefts are significantly higher during PM rush hours (56,632 cases) compared to AM rush hours (43,144 cases). This might be due to the increased number of vehicles parked in public areas during the evening, providing more opportunities for theft.\n",
    "\n",
    "**Insights and Considerations:**\n",
    "\n",
    "- Theft and battery are consistent patterns during both AM and PM rush hours, indicating that these crimes are not limited to a specific time frame.\n",
    "\n",
    "\n",
    "- Criminal damage, burglary, and assault are also significant in both periods, suggesting that property-related crimes and violence persist throughout the day.\n",
    "\n",
    "\n",
    "- The higher count of narcotics-related incidents during PM rush hours could be attributed to increased drug-related activities during the evening hours. \n",
    "\n",
    "\n",
    "- Investigate if specific locations, such as public transport hubs or crowded areas, are hotspots for these types of crimes during rush hours.\n",
    "\n",
    "\n",
    "- Analyze whether any patterns emerge based on specific days of the week or months of the year."
   ]
  },
  {
   "cell_type": "markdown",
   "id": "fa756474",
   "metadata": {},
   "source": [
    "### Comparing Months"
   ]
  },
  {
   "cell_type": "code",
   "execution_count": null,
   "id": "4f814881",
   "metadata": {},
   "outputs": [],
   "source": [
    "# Group by month and calculate total crimes\n",
    "df['Month'] = df['Date'].dt.month\n",
    "monthly_crime_counts = df['Month'].value_counts().sort_index()\n",
    "\n",
    "# Identify the months with the most and least crimes\n",
    "most_crimes_month = monthly_crime_counts.idxmax()\n",
    "least_crimes_month = monthly_crime_counts.idxmin()\n",
    "\n",
    "print(f\"Month with the most crimes: {most_crimes_month}\")\n",
    "print(f\"Month with the least crimes: {least_crimes_month}\")"
   ]
  },
  {
   "cell_type": "markdown",
   "id": "edd8d78e",
   "metadata": {},
   "source": [
    "### Comparing Holidays"
   ]
  },
  {
   "cell_type": "markdown",
   "id": "ccb948f6",
   "metadata": {},
   "source": [
    "- The holidays package helps us figure out if a specific date is a holiday in the United States. This is important because during holidays, things like more people gathering in public places, festivities, and changes in daily routines can affect how often crimes happen.\n",
    "\n",
    "\n",
    "- To use this information in our analysis, we're adding a new column called 'Holiday' to our data table. If a date is a holiday, we mark it as 'True' in the 'Holiday' column. If it's not a holiday, we mark it as 'False'. This gives us a way to group and study crime data separately for days that are holidays and days that aren't."
   ]
  },
  {
   "cell_type": "code",
   "execution_count": null,
   "id": "43502512",
   "metadata": {},
   "outputs": [],
   "source": [
    "import holidays\n",
    "# Load Data\n",
    "df = pd.read_csv(\"Crimes_-_2001_to_Present.csv\")"
   ]
  },
  {
   "cell_type": "code",
   "execution_count": null,
   "id": "99b52ae8",
   "metadata": {},
   "outputs": [],
   "source": [
    "# Convert 'Date' column to datetime\n",
    "df['Date'] = pd.to_datetime(df['Date'])\n",
    "\n",
    "# Define the range of years for US holidays\n",
    "us_holidays = holidays.US(years=range(2001, 2024))  # Adjust the range of years as needed\n",
    "\n",
    "# Create a new column 'Holiday' indicating the holiday each crime falls on\n",
    "df['Holiday'] = df['Date'].apply(lambda x: next((holiday for holiday in us_holidays if holiday == x.date()), None))\n",
    "\n",
    "# Group by 'Holiday' column and calculate crime counts\n",
    "holiday_crime_counts = df.groupby('Holiday')['ID'].count()\n",
    "\n",
    "# Identify holidays with increased and decreased crime counts\n",
    "increased_crime_holidays = holiday_crime_counts[holiday_crime_counts.diff() > 0]\n",
    "decreased_crime_holidays = holiday_crime_counts[holiday_crime_counts.diff() < 0]"
   ]
  },
  {
   "cell_type": "code",
   "execution_count": null,
   "id": "22391621",
   "metadata": {},
   "outputs": [],
   "source": [
    "print(\"Holidays with increased crime counts:\")\n",
    "print(increased_crime_holidays)\n",
    "\n",
    "print(\"\\nHolidays with decreased crime counts:\")\n",
    "print(decreased_crime_holidays)"
   ]
  },
  {
   "cell_type": "code",
   "execution_count": null,
   "id": "ef93605a",
   "metadata": {},
   "outputs": [],
   "source": [
    "# Check if the DataFrames are not empty before plotting\n",
    "if not increased_crime_holidays.empty or not decreased_crime_holidays.empty:\n",
    "    plt.figure(figsize=(12, 6))\n",
    "    \n",
    "    if not increased_crime_holidays.empty:\n",
    "        ax1 = increased_crime_holidays[::2].plot(kind='bar', color='g', alpha=0.7, label='Increased')\n",
    "    \n",
    "    if not decreased_crime_holidays.empty:\n",
    "        ax2 = decreased_crime_holidays[::2].plot(kind='bar', color='r', alpha=0.7, label='Decreased')\n",
    "    \n",
    "    plt.xlabel('Holiday')\n",
    "    plt.ylabel('Crime Count')\n",
    "    plt.title('Holidays with Increased and Decreased Crime Counts')\n",
    "    plt.legend()\n",
    "    \n",
    "    # Get the holiday names for the x-axis labels\n",
    "    x_labels = df.index.tolist()\n",
    "    \n",
    "    # Set the x-axis tick positions and labels\n",
    "    tick_positions = range(0, len(x_labels), 2)\n",
    "    plt.xticks(tick_positions, [x_labels[i] for i in tick_positions], rotation=45, ha='right')\n",
    "    \n",
    "    plt.tight_layout()\n",
    "    plt.show()\n",
    "else:\n",
    "    print(\"No data to plot for increased and decreased crime holidays.\")\n"
   ]
  },
  {
   "cell_type": "markdown",
   "id": "a71e7d0d",
   "metadata": {},
   "source": [
    "- **Second Approach:**"
   ]
  },
  {
   "cell_type": "code",
   "execution_count": null,
   "id": "1b88f069",
   "metadata": {},
   "outputs": [],
   "source": [
    "# Convert 'Date' column to datetime\n",
    "df['Date'] = pd.to_datetime(df['Date'])     \n",
    "us_holidays = holidays.US()\n",
    "df['Holiday'] = df['Date'].apply(lambda x: x in us_holidays)  \n",
    "holiday_crime_counts = df.groupby('Holiday')['ID'].count()\n",
    "\n",
    "# Identify holidays with increased and decreased crime counts\n",
    "increased_crime_holidays = holiday_crime_counts[holiday_crime_counts.diff() > 0]\n",
    "decreased_crime_holidays = holiday_crime_counts[holiday_crime_counts.diff() < 0]   \n",
    "print(\"Holidays with increased crime counts:\")\n",
    "print(increased_crime_holidays)\n",
    "\n",
    "print(\"\\nHolidays with decreased crime counts:\")\n",
    "print(decreased_crime_holidays)"
   ]
  },
  {
   "cell_type": "code",
   "execution_count": null,
   "id": "58623991",
   "metadata": {},
   "outputs": [],
   "source": [
    "# Convert 'Date' column to datetime\n",
    "df['Date'] = pd.to_datetime(df['Date'])\n",
    "\n",
    "# Create a new column 'Holiday' indicating the holiday each crime falls on\n",
    "us_holidays = holidays.US()\n",
    "df['Holiday'] = df['Date'].apply(lambda x: next((holiday for holiday in us_holidays if holiday == x.date()), None))\n",
    "\n",
    "# Group by 'Holiday' column and calculate crime counts\n",
    "holiday_crime_counts = df.groupby('Holiday')['ID'].count()\n",
    "\n",
    "# Plotting the trend of crimes during holidays\n",
    "plt.figure(figsize=(12, 6))\n",
    "holiday_crime_counts.plot(kind='line', marker='o')\n",
    "plt.xlabel('Holiday')\n",
    "plt.ylabel('Crime Count')\n",
    "plt.title('Trend of Crimes During Holidays')\n",
    "plt.xticks(rotation=45, ha='right')\n",
    "plt.tight_layout()\n",
    "plt.show()"
   ]
  },
  {
   "cell_type": "code",
   "execution_count": null,
   "id": "b943bce5",
   "metadata": {},
   "outputs": [],
   "source": [
    "print(holiday_crime_counts)"
   ]
  }
 ],
 "metadata": {
  "kernelspec": {
   "display_name": "Python (dojo-env)",
   "language": "python",
   "name": "dojo-env"
  },
  "language_info": {
   "codemirror_mode": {
    "name": "ipython",
    "version": 3
   },
   "file_extension": ".py",
   "mimetype": "text/x-python",
   "name": "python",
   "nbconvert_exporter": "python",
   "pygments_lexer": "ipython3",
   "version": "3.9.15"
  },
  "toc": {
   "base_numbering": 1,
   "nav_menu": {},
   "number_sections": true,
   "sideBar": true,
   "skip_h1_title": false,
   "title_cell": "Table of Contents",
   "title_sidebar": "Contents",
   "toc_cell": false,
   "toc_position": {},
   "toc_section_display": true,
   "toc_window_display": false
  }
 },
 "nbformat": 4,
 "nbformat_minor": 5
}
