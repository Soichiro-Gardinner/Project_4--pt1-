{
 "cells": [
  {
   "cell_type": "markdown",
   "id": "f075e22a",
   "metadata": {},
   "source": [
    "# Chicago Crimes"
   ]
  },
  {
   "cell_type": "code",
   "execution_count": 1,
   "id": "0ae79ed0",
   "metadata": {},
   "outputs": [
    {
     "ename": "KeyboardInterrupt",
     "evalue": "",
     "output_type": "error",
     "traceback": [
      "\u001b[1;31m---------------------------------------------------------------------------\u001b[0m",
      "\u001b[1;31mKeyboardInterrupt\u001b[0m                         Traceback (most recent call last)",
      "Cell \u001b[1;32mIn [1], line 4\u001b[0m\n\u001b[0;32m      1\u001b[0m \u001b[38;5;28;01mimport\u001b[39;00m \u001b[38;5;21;01mpandas\u001b[39;00m \u001b[38;5;28;01mas\u001b[39;00m \u001b[38;5;21;01mpd\u001b[39;00m\n\u001b[0;32m      3\u001b[0m \u001b[38;5;66;03m# Load Data: \u001b[39;00m\n\u001b[1;32m----> 4\u001b[0m df \u001b[38;5;241m=\u001b[39m \u001b[43mpd\u001b[49m\u001b[38;5;241;43m.\u001b[39;49m\u001b[43mread_csv\u001b[49m\u001b[43m(\u001b[49m\u001b[38;5;124;43m\"\u001b[39;49m\u001b[38;5;124;43mCrimes_-_2001_to_Present.csv\u001b[39;49m\u001b[38;5;124;43m\"\u001b[39;49m\u001b[43m)\u001b[49m\n",
      "File \u001b[1;32mC:\\Anaconda\\envs\\dojo-env\\lib\\site-packages\\pandas\\util\\_decorators.py:211\u001b[0m, in \u001b[0;36mdeprecate_kwarg.<locals>._deprecate_kwarg.<locals>.wrapper\u001b[1;34m(*args, **kwargs)\u001b[0m\n\u001b[0;32m    209\u001b[0m     \u001b[38;5;28;01melse\u001b[39;00m:\n\u001b[0;32m    210\u001b[0m         kwargs[new_arg_name] \u001b[38;5;241m=\u001b[39m new_arg_value\n\u001b[1;32m--> 211\u001b[0m \u001b[38;5;28;01mreturn\u001b[39;00m func(\u001b[38;5;241m*\u001b[39margs, \u001b[38;5;241m*\u001b[39m\u001b[38;5;241m*\u001b[39mkwargs)\n",
      "File \u001b[1;32mC:\\Anaconda\\envs\\dojo-env\\lib\\site-packages\\pandas\\util\\_decorators.py:331\u001b[0m, in \u001b[0;36mdeprecate_nonkeyword_arguments.<locals>.decorate.<locals>.wrapper\u001b[1;34m(*args, **kwargs)\u001b[0m\n\u001b[0;32m    325\u001b[0m \u001b[38;5;28;01mif\u001b[39;00m \u001b[38;5;28mlen\u001b[39m(args) \u001b[38;5;241m>\u001b[39m num_allow_args:\n\u001b[0;32m    326\u001b[0m     warnings\u001b[38;5;241m.\u001b[39mwarn(\n\u001b[0;32m    327\u001b[0m         msg\u001b[38;5;241m.\u001b[39mformat(arguments\u001b[38;5;241m=\u001b[39m_format_argument_list(allow_args)),\n\u001b[0;32m    328\u001b[0m         \u001b[38;5;167;01mFutureWarning\u001b[39;00m,\n\u001b[0;32m    329\u001b[0m         stacklevel\u001b[38;5;241m=\u001b[39mfind_stack_level(),\n\u001b[0;32m    330\u001b[0m     )\n\u001b[1;32m--> 331\u001b[0m \u001b[38;5;28;01mreturn\u001b[39;00m func(\u001b[38;5;241m*\u001b[39margs, \u001b[38;5;241m*\u001b[39m\u001b[38;5;241m*\u001b[39mkwargs)\n",
      "File \u001b[1;32mC:\\Anaconda\\envs\\dojo-env\\lib\\site-packages\\pandas\\io\\parsers\\readers.py:950\u001b[0m, in \u001b[0;36mread_csv\u001b[1;34m(filepath_or_buffer, sep, delimiter, header, names, index_col, usecols, squeeze, prefix, mangle_dupe_cols, dtype, engine, converters, true_values, false_values, skipinitialspace, skiprows, skipfooter, nrows, na_values, keep_default_na, na_filter, verbose, skip_blank_lines, parse_dates, infer_datetime_format, keep_date_col, date_parser, dayfirst, cache_dates, iterator, chunksize, compression, thousands, decimal, lineterminator, quotechar, quoting, doublequote, escapechar, comment, encoding, encoding_errors, dialect, error_bad_lines, warn_bad_lines, on_bad_lines, delim_whitespace, low_memory, memory_map, float_precision, storage_options)\u001b[0m\n\u001b[0;32m    935\u001b[0m kwds_defaults \u001b[38;5;241m=\u001b[39m _refine_defaults_read(\n\u001b[0;32m    936\u001b[0m     dialect,\n\u001b[0;32m    937\u001b[0m     delimiter,\n\u001b[1;32m   (...)\u001b[0m\n\u001b[0;32m    946\u001b[0m     defaults\u001b[38;5;241m=\u001b[39m{\u001b[38;5;124m\"\u001b[39m\u001b[38;5;124mdelimiter\u001b[39m\u001b[38;5;124m\"\u001b[39m: \u001b[38;5;124m\"\u001b[39m\u001b[38;5;124m,\u001b[39m\u001b[38;5;124m\"\u001b[39m},\n\u001b[0;32m    947\u001b[0m )\n\u001b[0;32m    948\u001b[0m kwds\u001b[38;5;241m.\u001b[39mupdate(kwds_defaults)\n\u001b[1;32m--> 950\u001b[0m \u001b[38;5;28;01mreturn\u001b[39;00m \u001b[43m_read\u001b[49m\u001b[43m(\u001b[49m\u001b[43mfilepath_or_buffer\u001b[49m\u001b[43m,\u001b[49m\u001b[43m \u001b[49m\u001b[43mkwds\u001b[49m\u001b[43m)\u001b[49m\n",
      "File \u001b[1;32mC:\\Anaconda\\envs\\dojo-env\\lib\\site-packages\\pandas\\io\\parsers\\readers.py:611\u001b[0m, in \u001b[0;36m_read\u001b[1;34m(filepath_or_buffer, kwds)\u001b[0m\n\u001b[0;32m    608\u001b[0m     \u001b[38;5;28;01mreturn\u001b[39;00m parser\n\u001b[0;32m    610\u001b[0m \u001b[38;5;28;01mwith\u001b[39;00m parser:\n\u001b[1;32m--> 611\u001b[0m     \u001b[38;5;28;01mreturn\u001b[39;00m \u001b[43mparser\u001b[49m\u001b[38;5;241;43m.\u001b[39;49m\u001b[43mread\u001b[49m\u001b[43m(\u001b[49m\u001b[43mnrows\u001b[49m\u001b[43m)\u001b[49m\n",
      "File \u001b[1;32mC:\\Anaconda\\envs\\dojo-env\\lib\\site-packages\\pandas\\io\\parsers\\readers.py:1778\u001b[0m, in \u001b[0;36mTextFileReader.read\u001b[1;34m(self, nrows)\u001b[0m\n\u001b[0;32m   1771\u001b[0m nrows \u001b[38;5;241m=\u001b[39m validate_integer(\u001b[38;5;124m\"\u001b[39m\u001b[38;5;124mnrows\u001b[39m\u001b[38;5;124m\"\u001b[39m, nrows)\n\u001b[0;32m   1772\u001b[0m \u001b[38;5;28;01mtry\u001b[39;00m:\n\u001b[0;32m   1773\u001b[0m     \u001b[38;5;66;03m# error: \"ParserBase\" has no attribute \"read\"\u001b[39;00m\n\u001b[0;32m   1774\u001b[0m     (\n\u001b[0;32m   1775\u001b[0m         index,\n\u001b[0;32m   1776\u001b[0m         columns,\n\u001b[0;32m   1777\u001b[0m         col_dict,\n\u001b[1;32m-> 1778\u001b[0m     ) \u001b[38;5;241m=\u001b[39m \u001b[38;5;28;43mself\u001b[39;49m\u001b[38;5;241;43m.\u001b[39;49m\u001b[43m_engine\u001b[49m\u001b[38;5;241;43m.\u001b[39;49m\u001b[43mread\u001b[49m\u001b[43m(\u001b[49m\u001b[43m  \u001b[49m\u001b[38;5;66;43;03m# type: ignore[attr-defined]\u001b[39;49;00m\n\u001b[0;32m   1779\u001b[0m \u001b[43m        \u001b[49m\u001b[43mnrows\u001b[49m\n\u001b[0;32m   1780\u001b[0m \u001b[43m    \u001b[49m\u001b[43m)\u001b[49m\n\u001b[0;32m   1781\u001b[0m \u001b[38;5;28;01mexcept\u001b[39;00m \u001b[38;5;167;01mException\u001b[39;00m:\n\u001b[0;32m   1782\u001b[0m     \u001b[38;5;28mself\u001b[39m\u001b[38;5;241m.\u001b[39mclose()\n",
      "File \u001b[1;32mC:\\Anaconda\\envs\\dojo-env\\lib\\site-packages\\pandas\\io\\parsers\\c_parser_wrapper.py:230\u001b[0m, in \u001b[0;36mCParserWrapper.read\u001b[1;34m(self, nrows)\u001b[0m\n\u001b[0;32m    228\u001b[0m \u001b[38;5;28;01mtry\u001b[39;00m:\n\u001b[0;32m    229\u001b[0m     \u001b[38;5;28;01mif\u001b[39;00m \u001b[38;5;28mself\u001b[39m\u001b[38;5;241m.\u001b[39mlow_memory:\n\u001b[1;32m--> 230\u001b[0m         chunks \u001b[38;5;241m=\u001b[39m \u001b[38;5;28;43mself\u001b[39;49m\u001b[38;5;241;43m.\u001b[39;49m\u001b[43m_reader\u001b[49m\u001b[38;5;241;43m.\u001b[39;49m\u001b[43mread_low_memory\u001b[49m\u001b[43m(\u001b[49m\u001b[43mnrows\u001b[49m\u001b[43m)\u001b[49m\n\u001b[0;32m    231\u001b[0m         \u001b[38;5;66;03m# destructive to chunks\u001b[39;00m\n\u001b[0;32m    232\u001b[0m         data \u001b[38;5;241m=\u001b[39m _concatenate_chunks(chunks)\n",
      "File \u001b[1;32mC:\\Anaconda\\envs\\dojo-env\\lib\\site-packages\\pandas\\_libs\\parsers.pyx:808\u001b[0m, in \u001b[0;36mpandas._libs.parsers.TextReader.read_low_memory\u001b[1;34m()\u001b[0m\n",
      "File \u001b[1;32mC:\\Anaconda\\envs\\dojo-env\\lib\\site-packages\\pandas\\_libs\\parsers.pyx:890\u001b[0m, in \u001b[0;36mpandas._libs.parsers.TextReader._read_rows\u001b[1;34m()\u001b[0m\n",
      "File \u001b[1;32mC:\\Anaconda\\envs\\dojo-env\\lib\\site-packages\\pandas\\_libs\\parsers.pyx:1037\u001b[0m, in \u001b[0;36mpandas._libs.parsers.TextReader._convert_column_data\u001b[1;34m()\u001b[0m\n",
      "File \u001b[1;32mC:\\Anaconda\\envs\\dojo-env\\lib\\site-packages\\pandas\\_libs\\parsers.pyx:1083\u001b[0m, in \u001b[0;36mpandas._libs.parsers.TextReader._convert_tokens\u001b[1;34m()\u001b[0m\n",
      "File \u001b[1;32mC:\\Anaconda\\envs\\dojo-env\\lib\\site-packages\\pandas\\_libs\\parsers.pyx:1158\u001b[0m, in \u001b[0;36mpandas._libs.parsers.TextReader._convert_with_dtype\u001b[1;34m()\u001b[0m\n",
      "File \u001b[1;32mC:\\Anaconda\\envs\\dojo-env\\lib\\site-packages\\pandas\\core\\dtypes\\common.py:1433\u001b[0m, in \u001b[0;36mis_extension_array_dtype\u001b[1;34m(arr_or_dtype)\u001b[0m\n\u001b[0;32m   1424\u001b[0m     \u001b[38;5;66;03m# Note: if other EA dtypes are ever held in HybridBlock, exclude those\u001b[39;00m\n\u001b[0;32m   1425\u001b[0m     \u001b[38;5;66;03m#  here too.\u001b[39;00m\n\u001b[0;32m   1426\u001b[0m     \u001b[38;5;66;03m# NB: need to check DatetimeTZDtype and not is_datetime64tz_dtype\u001b[39;00m\n\u001b[0;32m   1427\u001b[0m     \u001b[38;5;66;03m#  to exclude ArrowTimestampUSDtype\u001b[39;00m\n\u001b[0;32m   1428\u001b[0m     \u001b[38;5;28;01mreturn\u001b[39;00m \u001b[38;5;28misinstance\u001b[39m(dtype, ExtensionDtype) \u001b[38;5;129;01mand\u001b[39;00m \u001b[38;5;129;01mnot\u001b[39;00m \u001b[38;5;28misinstance\u001b[39m(\n\u001b[0;32m   1429\u001b[0m         dtype, (DatetimeTZDtype, PeriodDtype)\n\u001b[0;32m   1430\u001b[0m     )\n\u001b[1;32m-> 1433\u001b[0m \u001b[38;5;28;01mdef\u001b[39;00m \u001b[38;5;21mis_extension_array_dtype\u001b[39m(arr_or_dtype) \u001b[38;5;241m-\u001b[39m\u001b[38;5;241m>\u001b[39m \u001b[38;5;28mbool\u001b[39m:\n\u001b[0;32m   1434\u001b[0m     \u001b[38;5;124;03m\"\"\"\u001b[39;00m\n\u001b[0;32m   1435\u001b[0m \u001b[38;5;124;03m    Check if an object is a pandas extension array type.\u001b[39;00m\n\u001b[0;32m   1436\u001b[0m \n\u001b[1;32m   (...)\u001b[0m\n\u001b[0;32m   1476\u001b[0m \u001b[38;5;124;03m    False\u001b[39;00m\n\u001b[0;32m   1477\u001b[0m \u001b[38;5;124;03m    \"\"\"\u001b[39;00m\n\u001b[0;32m   1478\u001b[0m     dtype \u001b[38;5;241m=\u001b[39m \u001b[38;5;28mgetattr\u001b[39m(arr_or_dtype, \u001b[38;5;124m\"\u001b[39m\u001b[38;5;124mdtype\u001b[39m\u001b[38;5;124m\"\u001b[39m, arr_or_dtype)\n",
      "\u001b[1;31mKeyboardInterrupt\u001b[0m: "
     ]
    }
   ],
   "source": [
    "import pandas as pd\n",
    "\n",
    "# Load Data: \n",
    "df = pd.read_csv(\"Crimes_-_2001_to_Present.csv\")"
   ]
  },
  {
   "cell_type": "markdown",
   "id": "041bd3e3",
   "metadata": {},
   "source": [
    "- **Explore File Structure**"
   ]
  },
  {
   "cell_type": "code",
   "execution_count": null,
   "id": "e817074c",
   "metadata": {},
   "outputs": [],
   "source": [
    "df.head()"
   ]
  },
  {
   "cell_type": "code",
   "execution_count": 3,
   "id": "ecffb7b0",
   "metadata": {},
   "outputs": [
    {
     "data": {
      "text/plain": [
       "ID                              int64\n",
       "Case Number                    object\n",
       "Date                           object\n",
       "Block                          object\n",
       "IUCR                           object\n",
       "Primary Type                   object\n",
       "Description                    object\n",
       "Location Description           object\n",
       "Arrest                           bool\n",
       "Domestic                         bool\n",
       "Beat                            int64\n",
       "District                      float64\n",
       "Ward                          float64\n",
       "Community Area                float64\n",
       "FBI Code                       object\n",
       "X Coordinate                  float64\n",
       "Y Coordinate                  float64\n",
       "Year                            int64\n",
       "Updated On                     object\n",
       "Latitude                      float64\n",
       "Longitude                     float64\n",
       "Location                       object\n",
       "Historical Wards 2003-2015    float64\n",
       "Zip Codes                     float64\n",
       "Community Areas               float64\n",
       "Census Tracts                 float64\n",
       "Wards                         float64\n",
       "Boundaries - ZIP Codes        float64\n",
       "Police Districts              float64\n",
       "Police Beats                  float64\n",
       "dtype: object"
      ]
     },
     "execution_count": 3,
     "metadata": {},
     "output_type": "execute_result"
    }
   ],
   "source": [
    "df.dtypes"
   ]
  },
  {
   "cell_type": "code",
   "execution_count": 4,
   "id": "0f55052a",
   "metadata": {},
   "outputs": [
    {
     "data": {
      "text/plain": [
       "(7856203, 30)"
      ]
     },
     "execution_count": 4,
     "metadata": {},
     "output_type": "execute_result"
    }
   ],
   "source": [
    "df.shape"
   ]
  },
  {
   "cell_type": "markdown",
   "id": "2105ae61",
   "metadata": {},
   "source": [
    "### **Comparing Police Districts**"
   ]
  },
  {
   "cell_type": "code",
   "execution_count": 5,
   "id": "8656406c",
   "metadata": {},
   "outputs": [],
   "source": [
    "# Group by police district and calculate total crimes\n",
    "district_crime_counts = df['District'].value_counts()"
   ]
  },
  {
   "cell_type": "code",
   "execution_count": 6,
   "id": "1bc7ad6c",
   "metadata": {},
   "outputs": [
    {
     "name": "stdout",
     "output_type": "stream",
     "text": [
      "District with the most crimes: 8.0\n",
      "District with the least crimes: 21.0\n"
     ]
    }
   ],
   "source": [
    "# Identify the district with the most crimes and the district with the least\n",
    "most_crimes_district = district_crime_counts.idxmax()\n",
    "least_crimes_district = district_crime_counts.idxmin()\n",
    "\n",
    "print(f\"District with the most crimes: {most_crimes_district}\")\n",
    "print(f\"District with the least crimes: {least_crimes_district}\")"
   ]
  },
  {
   "cell_type": "markdown",
   "id": "b91cb046",
   "metadata": {},
   "source": [
    "- The output **\"District with the most crimes: 8.0\"** means that District 8 has the highest number of reported crimes in the dataset.\n",
    "\n",
    "- The output **\"District with the least crimes: 21.0\"** means that District 21 has the lowest number of reported crimes in the dataset."
   ]
  },
  {
   "cell_type": "code",
   "execution_count": 7,
   "id": "21505dde",
   "metadata": {},
   "outputs": [
    {
     "ename": "KeyboardInterrupt",
     "evalue": "",
     "output_type": "error",
     "traceback": [
      "\u001b[1;31m---------------------------------------------------------------------------\u001b[0m",
      "\u001b[1;31mKeyboardInterrupt\u001b[0m                         Traceback (most recent call last)",
      "Cell \u001b[1;32mIn [7], line 2\u001b[0m\n\u001b[0;32m      1\u001b[0m \u001b[38;5;66;03m# Convert 'Date' column to datetime\u001b[39;00m\n\u001b[1;32m----> 2\u001b[0m df[\u001b[38;5;124m'\u001b[39m\u001b[38;5;124mDate\u001b[39m\u001b[38;5;124m'\u001b[39m] \u001b[38;5;241m=\u001b[39m \u001b[43mpd\u001b[49m\u001b[38;5;241;43m.\u001b[39;49m\u001b[43mto_datetime\u001b[49m\u001b[43m(\u001b[49m\u001b[43mdf\u001b[49m\u001b[43m[\u001b[49m\u001b[38;5;124;43m'\u001b[39;49m\u001b[38;5;124;43mDate\u001b[39;49m\u001b[38;5;124;43m'\u001b[39;49m\u001b[43m]\u001b[49m\u001b[43m)\u001b[49m\n\u001b[0;32m      4\u001b[0m \u001b[38;5;66;03m# Group by year and calculate total crimes\u001b[39;00m\n\u001b[0;32m      5\u001b[0m yearly_crime_counts \u001b[38;5;241m=\u001b[39m df[\u001b[38;5;124m'\u001b[39m\u001b[38;5;124mYear\u001b[39m\u001b[38;5;124m'\u001b[39m]\u001b[38;5;241m.\u001b[39mvalue_counts()\u001b[38;5;241m.\u001b[39msort_index()\n",
      "File \u001b[1;32mC:\\Anaconda\\envs\\dojo-env\\lib\\site-packages\\pandas\\core\\tools\\datetimes.py:1068\u001b[0m, in \u001b[0;36mto_datetime\u001b[1;34m(arg, errors, dayfirst, yearfirst, utc, format, exact, unit, infer_datetime_format, origin, cache)\u001b[0m\n\u001b[0;32m   1066\u001b[0m         result \u001b[38;5;241m=\u001b[39m arg\u001b[38;5;241m.\u001b[39mmap(cache_array)\n\u001b[0;32m   1067\u001b[0m     \u001b[38;5;28;01melse\u001b[39;00m:\n\u001b[1;32m-> 1068\u001b[0m         values \u001b[38;5;241m=\u001b[39m \u001b[43mconvert_listlike\u001b[49m\u001b[43m(\u001b[49m\u001b[43marg\u001b[49m\u001b[38;5;241;43m.\u001b[39;49m\u001b[43m_values\u001b[49m\u001b[43m,\u001b[49m\u001b[43m \u001b[49m\u001b[38;5;28;43mformat\u001b[39;49m\u001b[43m)\u001b[49m\n\u001b[0;32m   1069\u001b[0m         result \u001b[38;5;241m=\u001b[39m arg\u001b[38;5;241m.\u001b[39m_constructor(values, index\u001b[38;5;241m=\u001b[39marg\u001b[38;5;241m.\u001b[39mindex, name\u001b[38;5;241m=\u001b[39marg\u001b[38;5;241m.\u001b[39mname)\n\u001b[0;32m   1070\u001b[0m \u001b[38;5;28;01melif\u001b[39;00m \u001b[38;5;28misinstance\u001b[39m(arg, (ABCDataFrame, abc\u001b[38;5;241m.\u001b[39mMutableMapping)):\n",
      "File \u001b[1;32mC:\\Anaconda\\envs\\dojo-env\\lib\\site-packages\\pandas\\core\\tools\\datetimes.py:438\u001b[0m, in \u001b[0;36m_convert_listlike_datetimes\u001b[1;34m(arg, format, name, tz, unit, errors, infer_datetime_format, dayfirst, yearfirst, exact)\u001b[0m\n\u001b[0;32m    436\u001b[0m \u001b[38;5;28;01massert\u001b[39;00m \u001b[38;5;28mformat\u001b[39m \u001b[38;5;129;01mis\u001b[39;00m \u001b[38;5;28;01mNone\u001b[39;00m \u001b[38;5;129;01mor\u001b[39;00m infer_datetime_format\n\u001b[0;32m    437\u001b[0m utc \u001b[38;5;241m=\u001b[39m tz \u001b[38;5;241m==\u001b[39m \u001b[38;5;124m\"\u001b[39m\u001b[38;5;124mutc\u001b[39m\u001b[38;5;124m\"\u001b[39m\n\u001b[1;32m--> 438\u001b[0m result, tz_parsed \u001b[38;5;241m=\u001b[39m \u001b[43mobjects_to_datetime64ns\u001b[49m\u001b[43m(\u001b[49m\n\u001b[0;32m    439\u001b[0m \u001b[43m    \u001b[49m\u001b[43marg\u001b[49m\u001b[43m,\u001b[49m\n\u001b[0;32m    440\u001b[0m \u001b[43m    \u001b[49m\u001b[43mdayfirst\u001b[49m\u001b[38;5;241;43m=\u001b[39;49m\u001b[43mdayfirst\u001b[49m\u001b[43m,\u001b[49m\n\u001b[0;32m    441\u001b[0m \u001b[43m    \u001b[49m\u001b[43myearfirst\u001b[49m\u001b[38;5;241;43m=\u001b[39;49m\u001b[43myearfirst\u001b[49m\u001b[43m,\u001b[49m\n\u001b[0;32m    442\u001b[0m \u001b[43m    \u001b[49m\u001b[43mutc\u001b[49m\u001b[38;5;241;43m=\u001b[39;49m\u001b[43mutc\u001b[49m\u001b[43m,\u001b[49m\n\u001b[0;32m    443\u001b[0m \u001b[43m    \u001b[49m\u001b[43merrors\u001b[49m\u001b[38;5;241;43m=\u001b[39;49m\u001b[43merrors\u001b[49m\u001b[43m,\u001b[49m\n\u001b[0;32m    444\u001b[0m \u001b[43m    \u001b[49m\u001b[43mrequire_iso8601\u001b[49m\u001b[38;5;241;43m=\u001b[39;49m\u001b[43mrequire_iso8601\u001b[49m\u001b[43m,\u001b[49m\n\u001b[0;32m    445\u001b[0m \u001b[43m    \u001b[49m\u001b[43mallow_object\u001b[49m\u001b[38;5;241;43m=\u001b[39;49m\u001b[38;5;28;43;01mTrue\u001b[39;49;00m\u001b[43m,\u001b[49m\n\u001b[0;32m    446\u001b[0m \u001b[43m\u001b[49m\u001b[43m)\u001b[49m\n\u001b[0;32m    448\u001b[0m \u001b[38;5;28;01mif\u001b[39;00m tz_parsed \u001b[38;5;129;01mis\u001b[39;00m \u001b[38;5;129;01mnot\u001b[39;00m \u001b[38;5;28;01mNone\u001b[39;00m:\n\u001b[0;32m    449\u001b[0m     \u001b[38;5;66;03m# We can take a shortcut since the datetime64 numpy array\u001b[39;00m\n\u001b[0;32m    450\u001b[0m     \u001b[38;5;66;03m# is in UTC\u001b[39;00m\n\u001b[0;32m    451\u001b[0m     dta \u001b[38;5;241m=\u001b[39m DatetimeArray(result, dtype\u001b[38;5;241m=\u001b[39mtz_to_dtype(tz_parsed))\n",
      "File \u001b[1;32mC:\\Anaconda\\envs\\dojo-env\\lib\\site-packages\\pandas\\core\\arrays\\datetimes.py:2177\u001b[0m, in \u001b[0;36mobjects_to_datetime64ns\u001b[1;34m(data, dayfirst, yearfirst, utc, errors, require_iso8601, allow_object, allow_mixed)\u001b[0m\n\u001b[0;32m   2175\u001b[0m order: Literal[\u001b[38;5;124m\"\u001b[39m\u001b[38;5;124mF\u001b[39m\u001b[38;5;124m\"\u001b[39m, \u001b[38;5;124m\"\u001b[39m\u001b[38;5;124mC\u001b[39m\u001b[38;5;124m\"\u001b[39m] \u001b[38;5;241m=\u001b[39m \u001b[38;5;124m\"\u001b[39m\u001b[38;5;124mF\u001b[39m\u001b[38;5;124m\"\u001b[39m \u001b[38;5;28;01mif\u001b[39;00m flags\u001b[38;5;241m.\u001b[39mf_contiguous \u001b[38;5;28;01melse\u001b[39;00m \u001b[38;5;124m\"\u001b[39m\u001b[38;5;124mC\u001b[39m\u001b[38;5;124m\"\u001b[39m\n\u001b[0;32m   2176\u001b[0m \u001b[38;5;28;01mtry\u001b[39;00m:\n\u001b[1;32m-> 2177\u001b[0m     result, tz_parsed \u001b[38;5;241m=\u001b[39m \u001b[43mtslib\u001b[49m\u001b[38;5;241;43m.\u001b[39;49m\u001b[43marray_to_datetime\u001b[49m\u001b[43m(\u001b[49m\n\u001b[0;32m   2178\u001b[0m \u001b[43m        \u001b[49m\u001b[43mdata\u001b[49m\u001b[38;5;241;43m.\u001b[39;49m\u001b[43mravel\u001b[49m\u001b[43m(\u001b[49m\u001b[38;5;124;43m\"\u001b[39;49m\u001b[38;5;124;43mK\u001b[39;49m\u001b[38;5;124;43m\"\u001b[39;49m\u001b[43m)\u001b[49m\u001b[43m,\u001b[49m\n\u001b[0;32m   2179\u001b[0m \u001b[43m        \u001b[49m\u001b[43merrors\u001b[49m\u001b[38;5;241;43m=\u001b[39;49m\u001b[43merrors\u001b[49m\u001b[43m,\u001b[49m\n\u001b[0;32m   2180\u001b[0m \u001b[43m        \u001b[49m\u001b[43mutc\u001b[49m\u001b[38;5;241;43m=\u001b[39;49m\u001b[43mutc\u001b[49m\u001b[43m,\u001b[49m\n\u001b[0;32m   2181\u001b[0m \u001b[43m        \u001b[49m\u001b[43mdayfirst\u001b[49m\u001b[38;5;241;43m=\u001b[39;49m\u001b[43mdayfirst\u001b[49m\u001b[43m,\u001b[49m\n\u001b[0;32m   2182\u001b[0m \u001b[43m        \u001b[49m\u001b[43myearfirst\u001b[49m\u001b[38;5;241;43m=\u001b[39;49m\u001b[43myearfirst\u001b[49m\u001b[43m,\u001b[49m\n\u001b[0;32m   2183\u001b[0m \u001b[43m        \u001b[49m\u001b[43mrequire_iso8601\u001b[49m\u001b[38;5;241;43m=\u001b[39;49m\u001b[43mrequire_iso8601\u001b[49m\u001b[43m,\u001b[49m\n\u001b[0;32m   2184\u001b[0m \u001b[43m        \u001b[49m\u001b[43mallow_mixed\u001b[49m\u001b[38;5;241;43m=\u001b[39;49m\u001b[43mallow_mixed\u001b[49m\u001b[43m,\u001b[49m\n\u001b[0;32m   2185\u001b[0m \u001b[43m    \u001b[49m\u001b[43m)\u001b[49m\n\u001b[0;32m   2186\u001b[0m     result \u001b[38;5;241m=\u001b[39m result\u001b[38;5;241m.\u001b[39mreshape(data\u001b[38;5;241m.\u001b[39mshape, order\u001b[38;5;241m=\u001b[39morder)\n\u001b[0;32m   2187\u001b[0m \u001b[38;5;28;01mexcept\u001b[39;00m \u001b[38;5;167;01mOverflowError\u001b[39;00m \u001b[38;5;28;01mas\u001b[39;00m err:\n\u001b[0;32m   2188\u001b[0m     \u001b[38;5;66;03m# Exception is raised when a part of date is greater than 32 bit signed int\u001b[39;00m\n",
      "File \u001b[1;32mC:\\Anaconda\\envs\\dojo-env\\lib\\site-packages\\pandas\\_libs\\tslib.pyx:427\u001b[0m, in \u001b[0;36mpandas._libs.tslib.array_to_datetime\u001b[1;34m()\u001b[0m\n",
      "File \u001b[1;32mC:\\Anaconda\\envs\\dojo-env\\lib\\site-packages\\pandas\\_libs\\tslib.pyx:605\u001b[0m, in \u001b[0;36mpandas._libs.tslib.array_to_datetime\u001b[1;34m()\u001b[0m\n",
      "File \u001b[1;32mC:\\Anaconda\\envs\\dojo-env\\lib\\site-packages\\pandas\\_libs\\tslibs\\parsing.pyx:312\u001b[0m, in \u001b[0;36mpandas._libs.tslibs.parsing.parse_datetime_string\u001b[1;34m()\u001b[0m\n",
      "File \u001b[1;32mC:\\Anaconda\\envs\\dojo-env\\lib\\site-packages\\pandas\\_libs\\tslibs\\parsing.pyx:589\u001b[0m, in \u001b[0;36mpandas._libs.tslibs.parsing._parse_dateabbr_string\u001b[1;34m()\u001b[0m\n",
      "File \u001b[1;32mC:\\Anaconda\\envs\\dojo-env\\lib\\_strptime.py:568\u001b[0m, in \u001b[0;36m_strptime_datetime\u001b[1;34m(cls, data_string, format)\u001b[0m\n\u001b[0;32m    565\u001b[0m \u001b[38;5;28;01mdef\u001b[39;00m \u001b[38;5;21m_strptime_datetime\u001b[39m(\u001b[38;5;28mcls\u001b[39m, data_string, \u001b[38;5;28mformat\u001b[39m\u001b[38;5;241m=\u001b[39m\u001b[38;5;124m\"\u001b[39m\u001b[38;5;132;01m%a\u001b[39;00m\u001b[38;5;124m \u001b[39m\u001b[38;5;124m%\u001b[39m\u001b[38;5;124mb \u001b[39m\u001b[38;5;132;01m%d\u001b[39;00m\u001b[38;5;124m \u001b[39m\u001b[38;5;124m%\u001b[39m\u001b[38;5;124mH:\u001b[39m\u001b[38;5;124m%\u001b[39m\u001b[38;5;124mM:\u001b[39m\u001b[38;5;124m%\u001b[39m\u001b[38;5;124mS \u001b[39m\u001b[38;5;124m%\u001b[39m\u001b[38;5;124mY\u001b[39m\u001b[38;5;124m\"\u001b[39m):\n\u001b[0;32m    566\u001b[0m     \u001b[38;5;124;03m\"\"\"Return a class cls instance based on the input string and the\u001b[39;00m\n\u001b[0;32m    567\u001b[0m \u001b[38;5;124;03m    format string.\"\"\"\u001b[39;00m\n\u001b[1;32m--> 568\u001b[0m     tt, fraction, gmtoff_fraction \u001b[38;5;241m=\u001b[39m \u001b[43m_strptime\u001b[49m\u001b[43m(\u001b[49m\u001b[43mdata_string\u001b[49m\u001b[43m,\u001b[49m\u001b[43m \u001b[49m\u001b[38;5;28;43mformat\u001b[39;49m\u001b[43m)\u001b[49m\n\u001b[0;32m    569\u001b[0m     tzname, gmtoff \u001b[38;5;241m=\u001b[39m tt[\u001b[38;5;241m-\u001b[39m\u001b[38;5;241m2\u001b[39m:]\n\u001b[0;32m    570\u001b[0m     args \u001b[38;5;241m=\u001b[39m tt[:\u001b[38;5;241m6\u001b[39m] \u001b[38;5;241m+\u001b[39m (fraction,)\n",
      "File \u001b[1;32mC:\\Anaconda\\envs\\dojo-env\\lib\\_strptime.py:315\u001b[0m, in \u001b[0;36m_strptime\u001b[1;34m(data_string, format)\u001b[0m\n\u001b[0;32m    310\u001b[0m \u001b[38;5;124;03m\"\"\"Return a 2-tuple consisting of a time struct and an int containing\u001b[39;00m\n\u001b[0;32m    311\u001b[0m \u001b[38;5;124;03mthe number of microseconds based on the input string and the\u001b[39;00m\n\u001b[0;32m    312\u001b[0m \u001b[38;5;124;03mformat string.\"\"\"\u001b[39;00m\n\u001b[0;32m    314\u001b[0m \u001b[38;5;28;01mfor\u001b[39;00m index, arg \u001b[38;5;129;01min\u001b[39;00m \u001b[38;5;28menumerate\u001b[39m([data_string, \u001b[38;5;28mformat\u001b[39m]):\n\u001b[1;32m--> 315\u001b[0m     \u001b[38;5;28;01mif\u001b[39;00m \u001b[38;5;129;01mnot\u001b[39;00m \u001b[38;5;28;43misinstance\u001b[39;49m(arg, \u001b[38;5;28mstr\u001b[39m):\n\u001b[0;32m    316\u001b[0m         msg \u001b[38;5;241m=\u001b[39m \u001b[38;5;124m\"\u001b[39m\u001b[38;5;124mstrptime() argument \u001b[39m\u001b[38;5;132;01m{}\u001b[39;00m\u001b[38;5;124m must be str, not \u001b[39m\u001b[38;5;132;01m{}\u001b[39;00m\u001b[38;5;124m\"\u001b[39m\n\u001b[0;32m    317\u001b[0m         \u001b[38;5;28;01mraise\u001b[39;00m \u001b[38;5;167;01mTypeError\u001b[39;00m(msg\u001b[38;5;241m.\u001b[39mformat(index, \u001b[38;5;28mtype\u001b[39m(arg)))\n",
      "\u001b[1;31mKeyboardInterrupt\u001b[0m: "
     ]
    }
   ],
   "source": [
    "# Convert 'Date' column to datetime\n",
    "df['Date'] = pd.to_datetime(df['Date'])\n",
    "\n",
    "# Group by year and calculate total crimes\n",
    "yearly_crime_counts = df['Year'].value_counts().sort_index()\n",
    "\n",
    "# Plot a line chart\n",
    "import matplotlib.pyplot as plt\n",
    "\n",
    "plt.plot(yearly_crime_counts.index, yearly_crime_counts.values)\n",
    "plt.xlabel('Year')\n",
    "plt.ylabel('Total Crimes')\n",
    "plt.title('Total Crimes Across the Years')\n",
    "plt.show()"
   ]
  },
  {
   "cell_type": "code",
   "execution_count": null,
   "id": "f8385471",
   "metadata": {},
   "outputs": [],
   "source": [
    "# Visualize Total Crimes Across the Years\n",
    "plt.figure(figsize=(10, 6))\n",
    "plt.plot(yearly_crime_counts.index, yearly_crime_counts.values, marker='o')\n",
    "plt.xlabel('Year')\n",
    "plt.ylabel('Total Crimes')\n",
    "plt.title('Total Crimes Across the Years')\n",
    "plt.grid(True)\n",
    "plt.show()"
   ]
  },
  {
   "cell_type": "markdown",
   "id": "64280b1e",
   "metadata": {},
   "source": [
    "- **Identify individual crimes with opposite trends (decreasing when overall crime is increasing or vice-versa)**\n",
    "\n",
    "The y-axis \"Total crimes\" indicates the total number of reported crimes, with values starting at 500,000 and decreasing to 150,000. This indicates a decrease in the total number of reported crimes over the years.\n",
    "\n",
    "The x-axis \"Year\" represents the years from 2001 to 2023. The line starts from above the y-axis at the year 2001 and descends to the present year, 2023. This descending line visually reinforces the decrease in total reported crimes."
   ]
  },
  {
   "cell_type": "markdown",
   "id": "0fc08f40",
   "metadata": {},
   "source": [
    "### Comparing AM vs. PM Rush Hour"
   ]
  },
  {
   "cell_type": "code",
   "execution_count": null,
   "id": "c776f6f4",
   "metadata": {},
   "outputs": [],
   "source": [
    "# Create a new column indicating AM or PM rush hour\n",
    "df['Hour'] = df['Date'].dt.hour\n",
    "print(df[\"Hour\"].head())"
   ]
  },
  {
   "cell_type": "code",
   "execution_count": null,
   "id": "cc34c91d",
   "metadata": {},
   "outputs": [],
   "source": [
    "# Create columns for AM and PM rush hours\n",
    "df['AM_Rush_Hour'] = (df['Hour'] >= 7) & (df['Hour'] < 10)\n",
    "df['PM_Rush_Hour'] = (df['Hour'] >= 16) & (df['Hour'] < 19)"
   ]
  },
  {
   "cell_type": "code",
   "execution_count": null,
   "id": "43354b73",
   "metadata": {},
   "outputs": [],
   "source": [
    "print(df[\"AM_Rush_Hour\"].head())"
   ]
  },
  {
   "cell_type": "code",
   "execution_count": null,
   "id": "2d4d6af8",
   "metadata": {},
   "outputs": [],
   "source": [
    "print(df[\"PM_Rush_Hour\"].head())"
   ]
  },
  {
   "cell_type": "code",
   "execution_count": null,
   "id": "f0cae703",
   "metadata": {},
   "outputs": [],
   "source": [
    "# Group by crime type and calculate common crimes during AM and PM rush hours\n",
    "rush_hour_crime_counts = df.groupby(['Primary Type', 'AM_Rush_Hour', 'PM_Rush_Hour'])['ID'].count().unstack()"
   ]
  },
  {
   "cell_type": "code",
   "execution_count": null,
   "id": "20bbe847",
   "metadata": {},
   "outputs": [],
   "source": [
    "# Visualize Common Crimes During AM and PM Rush Hours\n",
    "plt.figure(figsize=(12, 6))\n",
    "rush_hour_crime_counts.plot(kind='bar', stacked=True)\n",
    "plt.xlabel('Primary Type')\n",
    "plt.ylabel('Crime Count')\n",
    "plt.title('Common Crimes During AM and PM Rush Hours')\n",
    "plt.legend(['AM Rush Hour', 'PM Rush Hour'])\n",
    "plt.xticks(rotation=45, ha='right')\n",
    "plt.show()"
   ]
  },
  {
   "cell_type": "code",
   "execution_count": null,
   "id": "8e044980",
   "metadata": {},
   "outputs": [],
   "source": [
    "# Filter the DataFrame for AM and PM rush hours\n",
    "am_rush_hour_df = df[df['AM_Rush_Hour']]\n",
    "pm_rush_hour_df = df[df['PM_Rush_Hour']]\n",
    "\n",
    "# Group by crime type and calculate common crimes during AM and PM rush hours\n",
    "am_rush_hour_counts = am_rush_hour_df['Primary Type'].value_counts().head(5)\n",
    "pm_rush_hour_counts = pm_rush_hour_df['Primary Type'].value_counts().head(5)"
   ]
  },
  {
   "cell_type": "code",
   "execution_count": null,
   "id": "8df37bc1",
   "metadata": {},
   "outputs": [],
   "source": [
    "# Print top 5 most common crimes during AM and PM rush hours\n",
    "print(\"Top 5 crimes during AM rush hour:\")\n",
    "print(am_rush_hour_counts)"
   ]
  },
  {
   "cell_type": "code",
   "execution_count": null,
   "id": "77bf9a52",
   "metadata": {},
   "outputs": [],
   "source": [
    "# Visualize Top 5 Crimes During AM Rush Hour\n",
    "plt.figure(figsize=(10, 6))\n",
    "am_rush_hour_counts.plot(kind='bar')\n",
    "plt.xlabel('Crime Type')\n",
    "plt.ylabel('Crime Count')\n",
    "plt.title('Top 5 Crimes During AM Rush Hour')\n",
    "plt.xticks(rotation=45, ha='right')\n",
    "plt.show()"
   ]
  },
  {
   "cell_type": "markdown",
   "id": "cb1ec47e",
   "metadata": {},
   "source": [
    "**Top 5 Crimes During AM Rush Hour:**\n",
    "\n",
    "- **<span style=\"color: red\">THEFT:</span>**  Theft is the most common crime during AM rush hours. This could indicate that individuals might be more prone to stealing or engaging in theft-related activities during the morning rush.\n",
    "\n",
    "\n",
    "- **<span style=\"color: red\">BATTERY:</span>** Battery is the second most common crime. This suggests that incidents involving physical harm or violence are also relatively frequent during the morning rush.\n",
    "\n",
    "\n",
    "\n",
    "- **<span style=\"color: red\">CRIMINAL DAMAGE:</span>** The third highest count is for criminal damage. This might include acts of vandalism or property damage, which could be influenced by increased activity during the morning commute.\n",
    "\n",
    "\n",
    "- **<span style=\"color: red\">BURGLARY:</span>** Burglary, which involves unauthorized entry into a building, is also quite common. This could be related to opportunist criminal behavior when people are leaving their homes for work.\n",
    "\n",
    "\n",
    "- **<span style=\"color: red\">OTHER OFFENSE:</span>** This category includes a variety of non-specific offenses. It could indicate a range of activities, such as disorderly conduct or public disturbances, happening during the morning rush.\n",
    "\n"
   ]
  },
  {
   "cell_type": "code",
   "execution_count": null,
   "id": "06624eb6",
   "metadata": {},
   "outputs": [],
   "source": [
    "print(\"\\nTop 5 crimes during PM rush hour:\")\n",
    "print(pm_rush_hour_counts)"
   ]
  },
  {
   "cell_type": "code",
   "execution_count": null,
   "id": "e12130dc",
   "metadata": {},
   "outputs": [],
   "source": [
    "# Visualize Top 5 Crimes During PM Rush Hour\n",
    "plt.figure(figsize=(10, 6))\n",
    "pm_rush_hour_counts.plot(kind='bar')\n",
    "plt.xlabel('Crime Type')\n",
    "plt.ylabel('Crime Count')\n",
    "plt.title('Top 5 Crimes During PM Rush Hour')\n",
    "plt.xticks(rotation=45, ha='right')\n",
    "plt.show()"
   ]
  },
  {
   "cell_type": "markdown",
   "id": "9cca7402",
   "metadata": {},
   "source": [
    "**Top 5 Crimes During PM Rush Hour:** \n",
    "\n",
    "- **<span style=\"color: red\">THEFT:</span>** Similar to AM rush hours, theft remains the most common crime during the evening rush. This may suggest that theft-related activities continue to be prevalent throughout the day.\n",
    "\n",
    "\n",
    "- **<span style=\"color: red\">BATTERY:</span>** Battery also maintains its position as the second most common crime during PM rush hours. This indicates that incidents of violence remain consistent between the two rush hour periods.\n",
    "\n",
    "\n",
    "- **<span style=\"color: red\">CRIMINAL DAMAGE:</span>** Again, criminal damage ranks third. This suggests that property damage and vandalism continue to occur during the evening rush.\n",
    "\n",
    "\n",
    "- **<span style=\"color: red\">NARCOTICS:</span>** Interestingly, narcotics-related incidents are more common during PM rush hours. This could indicate a higher likelihood of drug-related activities taking place in the evening. \n",
    "\n",
    "\n",
    "- **<span style=\"color: red\">ASSAULT:</span>** Assault, another form of violent crime, rounds out the top 5. This reinforces the presence of physical altercations during the evening rush."
   ]
  },
  {
   "cell_type": "code",
   "execution_count": null,
   "id": "90ffa16a",
   "metadata": {},
   "outputs": [],
   "source": [
    "# Calculate the number of Motor Vehicle Thefts during AM and PM rush hours\n",
    "mv_theft_am = am_rush_hour_df[am_rush_hour_df['Primary Type'] == 'MOTOR VEHICLE THEFT'].shape[0]\n",
    "mv_theft_pm = pm_rush_hour_df[pm_rush_hour_df['Primary Type'] == 'MOTOR VEHICLE THEFT'].shape[0]\n",
    "\n",
    "# Compare Motor Vehicle Thefts during AM and PM rush hours\n",
    "print(f\"Motor Vehicle Thefts during AM rush hour: {mv_theft_am}\")\n",
    "print(f\"Motor Vehicle Thefts during PM rush hour: {mv_theft_pm}\")"
   ]
  },
  {
   "cell_type": "markdown",
   "id": "f9be20f8",
   "metadata": {},
   "source": [
    "### Motor Vehicle Thefts During AM and PM Rush Hours:\n",
    "\n",
    "Motor vehicle thefts are significantly higher during PM rush hours (56,632 cases) compared to AM rush hours (43,144 cases). This might be due to the increased number of vehicles parked in public areas during the evening, providing more opportunities for theft.\n",
    "\n",
    "**Insights and Considerations:**\n",
    "\n",
    "- Theft and battery are consistent patterns during both AM and PM rush hours, indicating that these crimes are not limited to a specific time frame.\n",
    "\n",
    "\n",
    "- Criminal damage, burglary, and assault are also significant in both periods, suggesting that property-related crimes and violence persist throughout the day.\n",
    "\n",
    "\n",
    "- The higher count of narcotics-related incidents during PM rush hours could be attributed to increased drug-related activities during the evening hours. \n",
    "\n",
    "\n",
    "- Investigate if specific locations, such as public transport hubs or crowded areas, are hotspots for these types of crimes during rush hours.\n",
    "\n",
    "\n",
    "- Analyze whether any patterns emerge based on specific days of the week or months of the year."
   ]
  },
  {
   "cell_type": "markdown",
   "id": "fa756474",
   "metadata": {},
   "source": [
    "### Comparing Months"
   ]
  },
  {
   "cell_type": "code",
   "execution_count": null,
   "id": "4f814881",
   "metadata": {},
   "outputs": [],
   "source": [
    "# Group by month and calculate total crimes\n",
    "df['Month'] = df['Date'].dt.month\n",
    "monthly_crime_counts = df['Month'].value_counts().sort_index()\n",
    "\n",
    "# Identify the months with the most and least crimes\n",
    "most_crimes_month = monthly_crime_counts.idxmax()\n",
    "least_crimes_month = monthly_crime_counts.idxmin()\n",
    "\n",
    "print(f\"Month with the most crimes: {most_crimes_month}\")\n",
    "print(f\"Month with the least crimes: {least_crimes_month}\")"
   ]
  },
  {
   "cell_type": "markdown",
   "id": "edd8d78e",
   "metadata": {},
   "source": [
    "### Comparing Holidays"
   ]
  },
  {
   "cell_type": "markdown",
   "id": "ccb948f6",
   "metadata": {},
   "source": [
    "- The holidays package helps us figure out if a specific date is a holiday in the United States. This is important because during holidays, things like more people gathering in public places, festivities, and changes in daily routines can affect how often crimes happen.\n",
    "\n",
    "\n",
    "- To use this information in our analysis, we're adding a new column called 'Holiday' to our data table. If a date is a holiday, we mark it as 'True' in the 'Holiday' column. If it's not a holiday, we mark it as 'False'. This gives us a way to group and study crime data separately for days that are holidays and days that aren't."
   ]
  },
  {
   "cell_type": "code",
   "execution_count": null,
   "id": "99b52ae8",
   "metadata": {},
   "outputs": [],
   "source": [
    "import holidays\n",
    "\n",
    "# Load Data\n",
    "df = pd.read_csv(\"Crimes_-_2001_to_Present.csv\")\n",
    "\n",
    "# Convert 'Date' column to datetime\n",
    "df['Date'] = pd.to_datetime(df['Date'])\n",
    "\n",
    "# Create a new column 'Holiday' indicating the holiday each crime falls on\n",
    "us_holidays = holidays.US()\n",
    "df['Holiday'] = df['Date'].apply(lambda x: next((holiday for holiday in us_holidays if holiday == x.date()), None))\n",
    "\n",
    "# Group by 'Holiday' column and calculate crime counts\n",
    "holiday_crime_counts = df.groupby('Holiday')['ID'].count()\n",
    "\n",
    "# Identify holidays with increased and decreased crime counts\n",
    "increased_crime_holidays = holiday_crime_counts[holiday_crime_counts.diff() > 0]\n",
    "decreased_crime_holidays = holiday_crime_counts[holiday_crime_counts.diff() < 0]"
   ]
  },
  {
   "cell_type": "code",
   "execution_count": null,
   "id": "1889b29b",
   "metadata": {},
   "outputs": [],
   "source": [
    "# Cell 20: Visualize Holidays with Increased and Decreased Crime Counts\n",
    "plt.figure(figsize=(12, 6))\n",
    "increased_crime_holidays.plot(kind='bar', color='g', alpha=0.7, label='Increased')\n",
    "decreased_crime_holidays.plot(kind='bar', color='r', alpha=0.7, label='Decreased')\n",
    "plt.xlabel('Holiday')\n",
    "plt.ylabel('Crime Count')\n",
    "plt.title('Holidays with Increased and Decreased Crime Counts')\n",
    "plt.legend()\n",
    "plt.xticks(rotation=45, ha='right')\n",
    "plt.show()"
   ]
  },
  {
   "cell_type": "code",
   "execution_count": null,
   "id": "22391621",
   "metadata": {},
   "outputs": [],
   "source": [
    "print(\"Holidays with increased crime counts:\")\n",
    "print(increased_crime_holidays)\n",
    "\n",
    "print(\"\\nHolidays with decreased crime counts:\")\n",
    "print(decreased_crime_holidays)"
   ]
  }
 ],
 "metadata": {
  "kernelspec": {
   "display_name": "Python (dojo-env)",
   "language": "python",
   "name": "dojo-env"
  },
  "language_info": {
   "codemirror_mode": {
    "name": "ipython",
    "version": 3
   },
   "file_extension": ".py",
   "mimetype": "text/x-python",
   "name": "python",
   "nbconvert_exporter": "python",
   "pygments_lexer": "ipython3",
   "version": "3.9.15"
  },
  "toc": {
   "base_numbering": 1,
   "nav_menu": {},
   "number_sections": true,
   "sideBar": true,
   "skip_h1_title": false,
   "title_cell": "Table of Contents",
   "title_sidebar": "Contents",
   "toc_cell": false,
   "toc_position": {},
   "toc_section_display": true,
   "toc_window_display": false
  }
 },
 "nbformat": 4,
 "nbformat_minor": 5
}
